{
  "nbformat": 4,
  "nbformat_minor": 0,
  "metadata": {
    "colab": {
      "name": "Tf_pro",
      "version": "0.3.2",
      "provenance": [],
      "collapsed_sections": [],
      "toc_visible": true
    },
    "kernelspec": {
      "display_name": "Python 3",
      "name": "python3"
    }
  },
  "cells": [
    {
      "cell_type": "markdown",
      "metadata": {
        "id": "view-in-github",
        "colab_type": "text"
      },
      "source": [
        "[View in Colaboratory](https://colab.research.google.com/github/BurryChen/Colaboratory/blob/master/Tf_pro.ipynb)"
      ]
    },
    {
      "metadata": {
        "id": "9J7p406abzgl",
        "colab_type": "text"
      },
      "cell_type": "markdown",
      "source": [
        " ## 欢迎使用 Colaboratory！\n",
        "\n",
        "Colaboratory 是一种数据分析工具，可将文字、代码和代码输出内容合并到一个协作文档中。"
      ]
    },
    {
      "metadata": {
        "id": "na0VvPXmYKp1",
        "colab_type": "code",
        "colab": {
          "base_uri": "https://localhost:8080/",
          "height": 35
        },
        "outputId": "f4268955-fd08-4aac-808b-970b81872b5a"
      },
      "cell_type": "code",
      "source": [
        "print('Hello, Colaboratory! It is my first pro!')"
      ],
      "execution_count": 0,
      "outputs": [
        {
          "output_type": "stream",
          "text": [
            "Hello, Colaboratory! It is my first pro!\n"
          ],
          "name": "stdout"
        }
      ]
    },
    {
      "metadata": {
        "id": "S9GW-n-oYWIj",
        "colab_type": "text"
      },
      "cell_type": "markdown",
      "source": [
        " 借助 Colaboratory，您只需点击一下鼠标，即可在浏览器中执行 TensorFlow 代码。下面的示例展示了两个矩阵相加的情况。\n",
        "\n",
        "$\\begin{bmatrix}\n",
        "  1. & 1. & 1. \\\\\n",
        "  1. & 1. & 1. \\\\\n",
        "\\end{bmatrix} +\n",
        "\\begin{bmatrix}\n",
        "  1. & 2. & 3. \\\\\n",
        "  4. & 5. & 6. \\\\\n",
        "\\end{bmatrix} =\n",
        "\\begin{bmatrix}\n",
        "  2. & 3. & 4. \\\\\n",
        "  5. & 6. & 7. \\\\\n",
        "\\end{bmatrix}$"
      ]
    },
    {
      "metadata": {
        "id": "mwdQ1INEZKkb",
        "colab_type": "code",
        "colab": {
          "base_uri": "https://localhost:8080/",
          "height": 53
        },
        "outputId": "b5ec6e74-05d3-4bcf-9ca5-57040b5f69fa"
      },
      "cell_type": "code",
      "source": [
        "import tensorflow as tf\n",
        "import numpy as np\n",
        "\n",
        "with tf.Session():\n",
        "  input1 = tf.constant(1.0, shape=[2, 3])\n",
        "  input2 = tf.constant(np.reshape(np.arange(6.0, 12.0, dtype=np.float32), (2, 3)))\n",
        "  output = tf.add(input1, input2)\n",
        "  result = output.eval()\n",
        "\n",
        "result"
      ],
      "execution_count": 0,
      "outputs": [
        {
          "output_type": "execute_result",
          "data": {
            "text/plain": [
              "array([[ 7.,  8.,  9.],\n",
              "       [10., 11., 12.]], dtype=float32)"
            ]
          },
          "metadata": {
            "tags": []
          },
          "execution_count": 2
        }
      ]
    },
    {
      "metadata": {
        "id": "rYs5mx2JZkmy",
        "colab_type": "text"
      },
      "cell_type": "markdown",
      "source": [
        " Colaboratory 包含很多已被广泛使用的库（例如 [matplotlib](https://matplotlib.org/)），因而能够简化数据的可视化过程。"
      ]
    },
    {
      "metadata": {
        "id": "xqrc5C-IaA5J",
        "colab_type": "code",
        "colab": {
          "base_uri": "https://localhost:8080/",
          "height": 351
        },
        "outputId": "c027a1f7-3ff7-4fe1-db92-1b35186e81ac"
      },
      "cell_type": "code",
      "source": [
        "import matplotlib.pyplot as plt\n",
        "\n",
        "x = np.arange(20)\n",
        "y = [x_i + np.random.randn(1) for x_i in x]\n",
        "a, b = np.polyfit(x, y, 1)\n",
        "plt.plot(x, y, 'o', np.arange(20), a*np.arange(20)+b, '-');"
      ],
      "execution_count": 0,
      "outputs": [
        {
          "output_type": "display_data",
          "data": {
            "image/png": "[encoded data removed]",
            "text/plain": [
              "<matplotlib.figure.Figure at 0x7f0e5d19a5f8>"
            ]
          },
          "metadata": {
            "tags": []
          }
        }
      ]
    },
    {
      "metadata": {
        "id": "-Rh3-Vt9Nev9",
        "colab_type": "text"
      },
      "cell_type": "markdown",
      "source": [
        " Colaboratory 可与 Google Cloud BigQuery 结合使用。\n",
        "\n",
        "[BigQuery 记事本范例](/notebook#fileId=/v2/external/notebooks/bigquery.ipynb)。"
      ]
    },
    {
      "metadata": {
        "id": "8Go6z45593Uq",
        "colab_type": "text"
      },
      "cell_type": "markdown",
      "source": [
        "# Tf_pro"
      ]
    },
    {
      "metadata": {
        "id": "-WcKXal788E4",
        "colab_type": "code",
        "colab": {
          "base_uri": "https://localhost:8080/",
          "height": 35
        },
        "outputId": "0e6b29d0-81fa-4b04-bd40-e82e97f37306"
      },
      "cell_type": "code",
      "source": [
        "#@title tf_pro01\n",
        "print(\"Start ML learning!\")"
      ],
      "execution_count": 1,
      "outputs": [
        {
          "output_type": "stream",
          "text": [
            "Start ML learning!\n"
          ],
          "name": "stdout"
        }
      ]
    },
    {
      "metadata": {
        "id": "FeIhYPSUD5eB",
        "colab_type": "code",
        "colab": {
          "base_uri": "https://localhost:8080/",
          "height": 35
        },
        "outputId": "5cc8db32-a5e4-4d02-ff98-9348adabc4a6"
      },
      "cell_type": "code",
      "source": [
        "print(\"shoubin.chen.618@gmail.com is created! We use it as a google account from now!\")"
      ],
      "execution_count": 3,
      "outputs": [
        {
          "output_type": "stream",
          "text": [
            "shoubin.chen.618@gmail.com is created! We use it as a google account from now!\n"
          ],
          "name": "stdout"
        }
      ]
    }
  ]
}